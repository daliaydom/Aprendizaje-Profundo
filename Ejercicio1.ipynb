{
  "cells": [
    {
      "cell_type": "markdown",
      "metadata": {
        "id": "view-in-github",
        "colab_type": "text"
      },
      "source": [
        "<a href=\"https://colab.research.google.com/github/daliaydom/Aprendizaje-Profundo/blob/main/Ejercicio1.ipynb\" target=\"_parent\"><img src=\"https://colab.research.google.com/assets/colab-badge.svg\" alt=\"Open In Colab\"/></a>"
      ]
    },
    {
      "cell_type": "markdown",
      "id": "d1f6ae5f-7abe-4d97-ab6a-b617a9dd12ad",
      "metadata": {
        "id": "d1f6ae5f-7abe-4d97-ab6a-b617a9dd12ad"
      },
      "source": [
        "# Curso de aprendizaje profundo\n",
        "## Redes densas\n",
        "### Dalia Yvette Domínguez Jiménez"
      ]
    },
    {
      "cell_type": "code",
      "execution_count": null,
      "id": "2556651c-2ca0-4bb3-8284-9bdec8d57b30",
      "metadata": {
        "id": "2556651c-2ca0-4bb3-8284-9bdec8d57b30"
      },
      "outputs": [],
      "source": [
        "import numpy as np"
      ]
    },
    {
      "cell_type": "markdown",
      "id": "d29db397-2e8b-4fb7-9415-54764288c9c5",
      "metadata": {
        "tags": [],
        "id": "d29db397-2e8b-4fb7-9415-54764288c9c5"
      },
      "source": [
        "#### Ejercicio 1: Red de unidades de umbral lineal"
      ]
    },
    {
      "cell_type": "markdown",
      "id": "dc3b043b-8126-494f-94c6-fdf0bf322156",
      "metadata": {
        "id": "dc3b043b-8126-494f-94c6-fdf0bf322156"
      },
      "source": [
        "Programa y evalúa una red de neuronas con funciones de activación escalón unitario que aproxime la operación XNOR (⊙) dada por\n",
        "\n",
        "| $x_1$ | $x_2$ | $y$ |\n",
        "|:----------:|:----------:|:---:|\n",
        "|      0     |      0     |  1  |\n",
        "|      0     |      1     |  0  |\n",
        "|      1     |      0     |  0  |\n",
        "|      1     |      1     |  1  |"
      ]
    },
    {
      "cell_type": "markdown",
      "id": "4f8eaf3f-f28d-4973-93be-cb57951cdef7",
      "metadata": {
        "id": "4f8eaf3f-f28d-4973-93be-cb57951cdef7"
      },
      "source": [
        "##### Solución:"
      ]
    },
    {
      "cell_type": "markdown",
      "id": "4af24a4c-594f-4cfb-93ca-866b4f5f1385",
      "metadata": {
        "id": "4af24a4c-594f-4cfb-93ca-866b4f5f1385"
      },
      "source": [
        "Primero definimos la función de activación que será un escalón unitario de la siguiente forma:\n",
        "\n",
        "\n",
        "$$\n",
        "\\varphi(x) = \\left\\{\\begin{matrix}\n",
        "1 &  & x\\geq0 \\\\ \n",
        "0 &  & x<0\n",
        "\\end{matrix}\\right.\n",
        "$$\n"
      ]
    },
    {
      "cell_type": "code",
      "execution_count": null,
      "id": "b9396ba6-ba3c-4c07-b6cd-00b5fd3d4733",
      "metadata": {
        "id": "b9396ba6-ba3c-4c07-b6cd-00b5fd3d4733"
      },
      "outputs": [],
      "source": [
        "def unitStep(X):\n",
        "    return 1*(X>=0)"
      ]
    },
    {
      "cell_type": "markdown",
      "id": "5e810f3d-9faf-4421-9740-15725aa98655",
      "metadata": {
        "id": "5e810f3d-9faf-4421-9740-15725aa98655"
      },
      "source": [
        "Definimos la función $XNOR$ como composición de funciones \n",
        "\n",
        "$$XNOR(x_1,x_2)=OR(NOR(x_1,x_2),AND(x_1,x_2))$$\n",
        "\n",
        "En donde la función $AND$ y $NOR$ se encontraran en la primera capa y la función $OR$ en la segunda capa.\n",
        "\n",
        "Para definir los parámetros de las compuertas que necesitamos, gráficamente identificamos la linea recta que separa ambas clases (0 o 1) en un plano bidimensional ($x_1$, $x_2$). Como se muestra en la siguiente figura. La linea roja $L$, que separa ambas clases se calculó a partir de las lineas $L_1$, $L_2$, de tal forma que los pesos $\\omega_i$ nos den la pendiente de la recta (paralela a las lineas azules) y el sesgo ($b$) puede variar entre los sesgos de las lineas azules:"
      ]
    },
    {
      "cell_type": "markdown",
      "id": "b3de1a8e-e90c-4cd2-9744-f94ae7c6d20e",
      "metadata": {
        "id": "b3de1a8e-e90c-4cd2-9744-f94ae7c6d20e"
      },
      "source": [
        "![SNOWFALL](https://github.com/daliaydom/Aprendizaje-Profundo/blob/main/XNOR.png?raw=true)"
      ]
    },
    {
      "cell_type": "markdown",
      "id": "0e2f2cfb-18c9-4623-9c55-313266da9aa5",
      "metadata": {
        "id": "0e2f2cfb-18c9-4623-9c55-313266da9aa5"
      },
      "source": [
        "De esta forma solo elegimos los sesgos como: 0, -2 y -1, respectivamente y definimos la siguiente función:"
      ]
    },
    {
      "cell_type": "code",
      "execution_count": null,
      "id": "cc71dd3a-9e5a-489d-b329-1e01c83e257c",
      "metadata": {
        "id": "cc71dd3a-9e5a-489d-b329-1e01c83e257c"
      },
      "outputs": [],
      "source": [
        "def XNOR(x1,x2):\n",
        "    \n",
        "    #Input\n",
        "    X = np.array([x1,x2]) #column\n",
        "    \n",
        "    #LOGIC GATES ---------------------\n",
        "    \n",
        "    # NOR gate (1st layer, 1st  neuron)\n",
        "    WT_11 = np.array([-1, -1])\n",
        "    b_11 = 0\n",
        "     \n",
        "    #AND gate (1st layer, 2nd neuron)\n",
        "    WT_21 = np.array([1, 1])\n",
        "    b_21 = -2\n",
        "    \n",
        "    #OR gate (2nd layer, 3rd neuron)\n",
        "    WT_31 = np.array([1, 1])\n",
        "    b_32 = -1\n",
        "    \n",
        "    #LAYERS---------------------------\n",
        "    \n",
        "    # First layer parameters\n",
        "    W1 = np.stack([WT_11,WT_21])\n",
        "    b1 = np.stack([b_11, b_21])\n",
        "    \n",
        "    #Second layer parameters\n",
        "    W2 = WT_31\n",
        "    b2 = b_32\n",
        "    \n",
        "    return unitStep( ( W2 @ unitStep(W1@X+b1) ) + b2 )"
      ]
    },
    {
      "cell_type": "markdown",
      "id": "eda83aad-311c-4622-b77c-528637f7244c",
      "metadata": {
        "id": "eda83aad-311c-4622-b77c-528637f7244c"
      },
      "source": [
        "Probamos la función"
      ]
    },
    {
      "cell_type": "code",
      "execution_count": null,
      "id": "2035ff55-6a77-4c32-b2e7-a61a474f8d94",
      "metadata": {
        "id": "2035ff55-6a77-4c32-b2e7-a61a474f8d94",
        "outputId": "6ea13158-d21b-4872-b47a-882bc0d2aecf"
      },
      "outputs": [
        {
          "name": "stdout",
          "output_type": "stream",
          "text": [
            "x1,x2,y\n",
            " 0 0  1\n",
            " 0 1  0\n",
            " 1 0  0\n",
            " 1 1  1\n"
          ]
        }
      ],
      "source": [
        "print('x1,x2,y')\n",
        "for x1,x2 in [[0,0],[0,1],[1,0],[1,1]]:\n",
        "    print('',x1, x2,'',XNOR(x1,x2))"
      ]
    }
  ],
  "metadata": {
    "kernelspec": {
      "display_name": "Python 3",
      "language": "python",
      "name": "python3"
    },
    "language_info": {
      "codemirror_mode": {
        "name": "ipython",
        "version": 3
      },
      "file_extension": ".py",
      "mimetype": "text/x-python",
      "name": "python",
      "nbconvert_exporter": "python",
      "pygments_lexer": "ipython3",
      "version": "3.9.13"
    },
    "colab": {
      "provenance": [],
      "include_colab_link": true
    }
  },
  "nbformat": 4,
  "nbformat_minor": 5
}