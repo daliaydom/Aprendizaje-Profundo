{
  "cells": [
    {
      "cell_type": "markdown",
      "metadata": {
        "id": "view-in-github",
        "colab_type": "text"
      },
      "source": [
        "<a href=\"https://colab.research.google.com/github/daliaydom/Aprendizaje-Profundo/blob/main/Ejercicio2.ipynb\" target=\"_parent\"><img src=\"https://colab.research.google.com/assets/colab-badge.svg\" alt=\"Open In Colab\"/></a>"
      ]
    },
    {
      "cell_type": "markdown",
      "id": "5fbe9751-fed4-4884-a8b4-cb45230664d3",
      "metadata": {
        "id": "5fbe9751-fed4-4884-a8b4-cb45230664d3"
      },
      "source": [
        "# Curso de aprendizaje profundo\n",
        "## Redes densas\n",
        "### Dalia Yvette Domínguez Jiménez"
      ]
    },
    {
      "cell_type": "code",
      "execution_count": 26,
      "id": "48a1939b-9238-47d1-9d91-46398f0e865a",
      "metadata": {
        "id": "48a1939b-9238-47d1-9d91-46398f0e865a"
      },
      "outputs": [],
      "source": [
        "import numpy as np\n",
        "import pandas as pd"
      ]
    },
    {
      "cell_type": "markdown",
      "id": "7a1c60a1-3782-4cd1-bfba-7621a7af7fc7",
      "metadata": {
        "tags": [],
        "id": "7a1c60a1-3782-4cd1-bfba-7621a7af7fc7"
      },
      "source": [
        "#### Ejercicio 2: Retropropagación en red densa"
      ]
    },
    {
      "cell_type": "markdown",
      "id": "acb2d7c9-d278-4e64-b548-c95bb2e0d672",
      "metadata": {
        "id": "acb2d7c9-d278-4e64-b548-c95bb2e0d672"
      },
      "source": [
        "Programa el algoritmo de retropropagación usando NumPy para una tarea de clasificación binaria presuponiendo una red densa con dos capas ocultas. Esta red tiene una función de activación logística en todas sus neuronas y se entrena minimizando la función de pérdida de entropía cruzada binaria. Describe las fórmulas y reglas de actualización de los pesos y sesgos de cada capa y entrena y evalúa la red en algún conjunto de datos."
      ]
    },
    {
      "cell_type": "markdown",
      "id": "e8a057cb-9f1a-486f-b900-c8be806323b9",
      "metadata": {
        "id": "e8a057cb-9f1a-486f-b900-c8be806323b9"
      },
      "source": [
        "La función de activación se define como:\n",
        "\n",
        "$$\n",
        "\\sigma(z) = \\frac{1}{1 + e^{-z}}\n",
        "$$"
      ]
    },
    {
      "cell_type": "code",
      "execution_count": 27,
      "id": "5af8ff1f-a2d0-4ce2-a826-dc34d7541648",
      "metadata": {
        "id": "5af8ff1f-a2d0-4ce2-a826-dc34d7541648"
      },
      "outputs": [],
      "source": [
        "def sigmoide(z):\n",
        "    return 1 / (1 + np.exp(-z))"
      ]
    },
    {
      "cell_type": "markdown",
      "id": "e89ddb74-ec89-4d76-b5c0-046c5c40c32b",
      "metadata": {
        "id": "e89ddb74-ec89-4d76-b5c0-046c5c40c32b"
      },
      "source": [
        "La función sigmoide tiene una derivada que está expresada en términos de la misma función, esto es, \n",
        "\n",
        "$$\n",
        "\\frac{\\partial \\sigma (z)}{\\partial z} = \\sigma(z) (1 - \\sigma(z))\n",
        "$$"
      ]
    },
    {
      "cell_type": "code",
      "execution_count": 28,
      "id": "f61dfb5b-bcc9-4d10-85fe-435e328279a1",
      "metadata": {
        "id": "f61dfb5b-bcc9-4d10-85fe-435e328279a1"
      },
      "outputs": [],
      "source": [
        "def derivada_sigmoide(x):\n",
        "    return np.multiply(sigmoide(x), (1.0 - sigmoide(x)))"
      ]
    },
    {
      "cell_type": "markdown",
      "id": "c89d4d2a-6b2b-444a-abc2-2be81a1da52d",
      "metadata": {
        "id": "c89d4d2a-6b2b-444a-abc2-2be81a1da52d"
      },
      "source": [
        "La función de pérdida de entropía cruzada binaria se define como:\n",
        "\n",
        "$$\n",
        "ECB(\\mathbf{y}, \\mathbf{\\hat{y}})  = -\\sum_{i=1}^N \\left[ y^{(i)} \\log \\hat{y}^{(i)} + (1 - y^{(i)}) \\log (1 - \\hat{y}^{(i)}) \\right]\n",
        "$$"
      ]
    },
    {
      "cell_type": "code",
      "execution_count": 29,
      "id": "9b6d8f54-87ab-40c3-9914-88441afa13b7",
      "metadata": {
        "id": "9b6d8f54-87ab-40c3-9914-88441afa13b7"
      },
      "outputs": [],
      "source": [
        "def entropia_cruzada_binaria(y, p):\n",
        "    p[p == 0] = np.nextafter(0., 1.)\n",
        "    p[p == 1] = np.nextafter(1., 0.)\n",
        "    return -(np.log(p[y == 1]).sum() + np.log(1 - p[y == 0]).sum())"
      ]
    },
    {
      "cell_type": "markdown",
      "id": "ae74abce-b93f-4bf7-ad88-6e791b1013b6",
      "metadata": {
        "id": "ae74abce-b93f-4bf7-ad88-6e791b1013b6"
      },
      "source": [
        "Asimismo, calcularemos la exactitud para medir el rendimiento del modelo aprendido por la red neuronal densa:\n",
        "\n",
        "$$\n",
        "exactitud = \\frac{correctos}{total}\n",
        "$$"
      ]
    },
    {
      "cell_type": "code",
      "execution_count": 30,
      "id": "d654c125-fb36-4882-87ff-f4e12a1e060d",
      "metadata": {
        "id": "d654c125-fb36-4882-87ff-f4e12a1e060d"
      },
      "outputs": [],
      "source": [
        "def exactitud(y, y_predicha):\n",
        "    return (y == y_predicha).mean() * 100"
      ]
    },
    {
      "cell_type": "markdown",
      "id": "f26e982a-fa19-40e1-969c-dc5de1e0f3b6",
      "metadata": {
        "id": "f26e982a-fa19-40e1-969c-dc5de1e0f3b6"
      },
      "source": [
        "Ahora, definimos la función que propaga hacia adelante una entrada $\\mathbf{x}^{i}$. Como la red está compuesta de 2 capas ocultas, tenemos 3 matrices de pesos con sus correspondientes vectores de sesgos $\\{\\mathbf{W}^{\\{1\\}}, \\mathbf{b}^{\\{1\\}}\\}$, $\\{\\mathbf{W}^{\\{2\\}}, \\mathbf{b}^{\\{2\\}}\\}$ y $\\{\\mathbf{W}^{\\{3\\}}, \\mathbf{b}^{\\{3\\}}\\}$ y una capa o neurona de salida. Así, podemos llevar a cabo la propagación hacia adelante en esta red de la siguiente manera:\n"
      ]
    },
    {
      "cell_type": "markdown",
      "id": "615bdc7d-6e92-4be0-a6d7-a9d6c95834cb",
      "metadata": {
        "id": "615bdc7d-6e92-4be0-a6d7-a9d6c95834cb"
      },
      "source": [
        "$$\n",
        "\t\\begin{split}\n",
        "\t\t\t\t\\mathbf{a}^{\\{0\\}} & =  \\mathbf{x}^{(i)} \\\\\n",
        "\t\t\t\t\\mathbf{z}^{\\{1\\}} & =  \\mathbf{W}^{\\{1\\}} \\cdot \\mathbf{a}^{\\{0\\}} + \\mathbf{b}^{\\{1\\}}= f_1( \\mathbf{W}^{\\{1\\}}, \\mathbf{b}^{\\{1\\}},\\mathbf{a}^{\\{0\\}})\\\\\n",
        "\t\t\t\t\\mathbf{a}^{\\{1\\}} & =  \\sigma(\\mathbf{z}^{\\{1\\}}) = f_2( \\emptyset, \\mathbf{z}^{\\{1\\}})\\\\\n",
        "\t\t\t\t\\mathbf{z}^{\\{2\\}} & =  \\mathbf{W}^{\\{2\\}} \\cdot \\mathbf{a}^{\\{1\\}}  + \\mathbf{b}^{\\{2\\}}= f_3( \\mathbf{W}^{\\{2\\}}, \\mathbf{b}^{\\{2\\}},\\mathbf{a}^{\\{1\\}})\\\\\n",
        "\t\t\t\t\\mathbf{a}^{\\{2\\}} & =  \\sigma(\\mathbf{z}^{\\{2\\}}) = f_4( \\emptyset, \\mathbf{z}^{\\{2\\}},\\mathbf{a}^{\\{0\\}})\\\\\n",
        "\t\t\t\t\\mathbf{z}^{\\{3\\}} & =  \\mathbf{W}^{\\{3\\}} \\cdot \\mathbf{a}^{\\{2\\}}  + \\mathbf{b}^{\\{3\\}}= f_5( \\mathbf{W}^{\\{3\\}}, \\mathbf{b}^{\\{3\\}})\\\\\n",
        "\t\t\t\t\\mathbf{a}^{\\{3\\}} & =  \\sigma(\\mathbf{z}^{\\{2\\}})=\\hat{y}^{(i)} = f_6( \\emptyset, \\mathbf{z}^{\\{3\\}})\n",
        "\t\t\t\\end{split}\n",
        "      $$"
      ]
    },
    {
      "cell_type": "code",
      "execution_count": 31,
      "id": "e88f27df-9aef-43e4-b187-90b6644c4f7d",
      "metadata": {
        "id": "e88f27df-9aef-43e4-b187-90b6644c4f7d"
      },
      "outputs": [],
      "source": [
        "def forward(x,W1,b1,W2,b2,W3,b3):\n",
        "    \n",
        "    z1 = np.dot(W1.T,x[:, np.newaxis])+b1\n",
        "    a1 = sigmoide(z1)\n",
        "    \n",
        "    z2 = np.dot(W2.T,a1)+b2\n",
        "    a2 = sigmoide(z2)\n",
        "    \n",
        "    z3 = np.dot(W3.T,a2)+b3\n",
        "    y_hat = sigmoide(z3)\n",
        "    \n",
        "    return z1, a1, z2, a2, z3, y_hat"
      ]
    },
    {
      "cell_type": "markdown",
      "id": "81025108-c8de-4f1f-88d8-69610be37da4",
      "metadata": {
        "id": "81025108-c8de-4f1f-88d8-69610be37da4"
      },
      "source": [
        "Finalmente, definimos la función para entrenar nuestra red neuronal usando gradiente descendente. Para calcular el gradiente de la función de pérdida respecto a los pesos y sesgos en cada capa empleamos el algoritmo de retropropagación.\n"
      ]
    },
    {
      "cell_type": "code",
      "execution_count": 32,
      "id": "45d7547f-65b8-42e7-ba9f-bee9974176f6",
      "metadata": {
        "id": "45d7547f-65b8-42e7-ba9f-bee9974176f6"
      },
      "outputs": [],
      "source": [
        "def retropropagacion(X, y, alpha = 0.01, n_epocas = 100, n_ocultas_capa1 = 2, n_ocultas_capa2 = 4):\n",
        "    n_ejemplos = X.shape[0]\n",
        "    n_entradas = X.shape[1]\n",
        "        \n",
        "    # Inicialización de las matrices de pesos W y V\n",
        "    W1 = np.sqrt(1.0 / n_entradas) * np.random.randn(n_entradas, n_ocultas_capa1)\n",
        "    b1 = np.zeros((n_ocultas_capa1, 1))\n",
        "    \n",
        "    W2 = np.sqrt(1.0 / n_ocultas_capa1) * np.random.randn(n_ocultas_capa1, n_ocultas_capa2)\n",
        "    b2 = np.zeros((n_ocultas_capa2, 1))\n",
        "    \n",
        "    W3 = np.sqrt(1.0 / n_ocultas_capa2) * np.random.randn(n_ocultas_capa2, 1)\n",
        "    b3 = np.zeros((1, 1))\n",
        "    \n",
        "    perdidas = np.zeros((n_epocas))\n",
        "    exactitudes = np.zeros((n_epocas))\n",
        "    y_predicha = np.zeros((y.shape))\n",
        "    for i in range(n_epocas):\n",
        "        for j in range(n_ejemplos):\n",
        "            \n",
        "            z1, a1, z2, a2, z3, y_hat = forward(X[j],W1,b1,W2,b2,W3,b3)\n",
        "            \n",
        "            # cálculo de gradientes para W3 y b3 por retropropagación\n",
        "            dz4 = (y_hat - y[j])\n",
        "            dW3 = np.outer(a2, dz4)\n",
        "            db3 = dz4\n",
        "            \n",
        "            # cálculo de gradientes para W2 y b2 por retropropagación/\n",
        "            dz3 = np.dot(W3, dz4) * derivada_sigmoide(z2)\n",
        "            dW2 = np.outer(a1, dz3)\n",
        "            db2 = dz3\n",
        "            \n",
        "            # cálculo de gradientes para W1 y b1 por retropropagación\n",
        "            dz2 = np.dot(W2, dz3) * derivada_sigmoide(z1)\n",
        "            dW1 = np.outer(X[j], dz2)\n",
        "            db1 = dz2\n",
        "\n",
        "            ####################################\n",
        "            # IMPORTANTE \n",
        "            # la actualización de los parámetros\n",
        "            # debe hacerse de forma simultánea\n",
        "            W3 = W3 - alpha * dW3\n",
        "            b3 = b3 - alpha * db3\n",
        "            \n",
        "            W2 = W2 - alpha * dW2\n",
        "            b2 = b2 - alpha * db2            \n",
        "            W1 = W1 - alpha * dW1\n",
        "            b1 = b1 - alpha * db1\n",
        "\n",
        "            y_predicha[j] = y_hat\n",
        "            \n",
        "        # calcula la pérdida en la época\n",
        "        perdidas[i] = entropia_cruzada_binaria(y, y_predicha)\n",
        "        exactitudes[i] = exactitud(y, np.round(y_predicha))\n",
        "        print('Epoch {0}: Pérdida = {1} Exactitud = {2}'.format(i, \n",
        "                                                              perdidas[i], \n",
        "                                                              exactitudes[i]))\n",
        "\n",
        "    return W1, W2, W3, perdidas, exactitudes"
      ]
    },
    {
      "cell_type": "markdown",
      "id": "eb3fdc0c-3914-4a1b-ba59-48d8cfee86fe",
      "metadata": {
        "id": "eb3fdc0c-3914-4a1b-ba59-48d8cfee86fe"
      },
      "source": [
        "## Entrenamieno de red con conjunto de datos"
      ]
    },
    {
      "cell_type": "markdown",
      "id": "6f000f2b-ae23-437a-a221-d50231daedf7",
      "metadata": {
        "id": "6f000f2b-ae23-437a-a221-d50231daedf7"
      },
      "source": [
        "Vamos a utilizar el conjunto de datos de tumores de seno, el cual se utilizó el semestre pasado."
      ]
    },
    {
      "cell_type": "markdown",
      "id": "0680b33a-9eec-4507-b17c-58a68880f515",
      "metadata": {
        "tags": [],
        "id": "0680b33a-9eec-4507-b17c-58a68880f515"
      },
      "source": [
        "### Lectura de datos "
      ]
    },
    {
      "cell_type": "markdown",
      "id": "45a2fd09-82e4-4436-8222-7ac2061fcc70",
      "metadata": {
        "id": "45a2fd09-82e4-4436-8222-7ac2061fcc70"
      },
      "source": [
        "El conjunto de datos contiene 699 registros de tumores de seno, de los cuales 458 son benignos y 241 son malignos. En donde la clase es 2 para benigno y 4 para maligno."
      ]
    },
    {
      "cell_type": "code",
      "execution_count": 33,
      "id": "50ceef07-ba2f-4c81-977b-13849ab3b597",
      "metadata": {
        "colab": {
          "base_uri": "https://localhost:8080/"
        },
        "id": "50ceef07-ba2f-4c81-977b-13849ab3b597",
        "outputId": "10e87b71-32be-445b-fcf1-494409647451"
      },
      "outputs": [
        {
          "output_type": "stream",
          "name": "stdout",
          "text": [
            "--2022-09-28 06:16:00--  https://raw.githubusercontent.com/daliaydom/Aprendizaje-Profundo/main/breast-cancer-wisconsin.data\n",
            "Resolving raw.githubusercontent.com (raw.githubusercontent.com)... 185.199.108.133, 185.199.109.133, 185.199.110.133, ...\n",
            "Connecting to raw.githubusercontent.com (raw.githubusercontent.com)|185.199.108.133|:443... connected.\n",
            "HTTP request sent, awaiting response... 200 OK\n",
            "Length: 19889 (19K) [text/plain]\n",
            "Saving to: ‘breast-cancer-wisconsin.data’\n",
            "\n",
            "\r          breast-ca   0%[                    ]       0  --.-KB/s               \rbreast-cancer-wisco 100%[===================>]  19.42K  --.-KB/s    in 0.002s  \n",
            "\n",
            "2022-09-28 06:16:00 (8.46 MB/s) - ‘breast-cancer-wisconsin.data’ saved [19889/19889]\n",
            "\n"
          ]
        }
      ],
      "source": [
        "URL = 'https://raw.githubusercontent.com/daliaydom/Aprendizaje-Profundo/main/breast-cancer-wisconsin.data'\n",
        "\n",
        "! wget -nc {URL} -O {'breast-cancer-wisconsin.data'}\n"
      ]
    },
    {
      "cell_type": "code",
      "source": [
        "df = pd.read_csv('breast-cancer-wisconsin.data')\n",
        "df.columns= ['Código de la muestra',\n",
        "          'Grosor del tumor',\n",
        "          'Uniformidad del tamño',\n",
        "          'Uniformidad de la forma',\n",
        "          'Adhesión marginal',\n",
        "          'Tamaño',\n",
        "          'Núcleos desnudos',\n",
        "          'Cromatina blanda',\n",
        "          'Nucléolos normales',\n",
        "          'Mitosis de células',\n",
        "          'Clase']\n",
        "df.info()"
      ],
      "metadata": {
        "colab": {
          "base_uri": "https://localhost:8080/"
        },
        "id": "oXUBVRycuwp0",
        "outputId": "ce02c2c5-6dd4-486c-e86a-7f961ce310bc"
      },
      "id": "oXUBVRycuwp0",
      "execution_count": 34,
      "outputs": [
        {
          "output_type": "stream",
          "name": "stdout",
          "text": [
            "<class 'pandas.core.frame.DataFrame'>\n",
            "RangeIndex: 698 entries, 0 to 697\n",
            "Data columns (total 11 columns):\n",
            " #   Column                   Non-Null Count  Dtype \n",
            "---  ------                   --------------  ----- \n",
            " 0   Código de la muestra     698 non-null    int64 \n",
            " 1   Grosor del tumor         698 non-null    int64 \n",
            " 2   Uniformidad del tamño    698 non-null    int64 \n",
            " 3   Uniformidad de la forma  698 non-null    int64 \n",
            " 4   Adhesión marginal        698 non-null    int64 \n",
            " 5   Tamaño                   698 non-null    int64 \n",
            " 6   Núcleos desnudos         698 non-null    object\n",
            " 7   Cromatina blanda         698 non-null    int64 \n",
            " 8   Nucléolos normales       698 non-null    int64 \n",
            " 9   Mitosis de células       698 non-null    int64 \n",
            " 10  Clase                    698 non-null    int64 \n",
            "dtypes: int64(10), object(1)\n",
            "memory usage: 60.1+ KB\n"
          ]
        }
      ]
    },
    {
      "cell_type": "markdown",
      "id": "d150d676-4abe-4c43-81f9-df6d8d68615b",
      "metadata": {
        "id": "d150d676-4abe-4c43-81f9-df6d8d68615b"
      },
      "source": [
        "Cambiamos las variables de clases por variables binarias 0 para benigno (antes 2) y 1 para maligno (antes 4)."
      ]
    },
    {
      "cell_type": "code",
      "execution_count": 35,
      "id": "49b6ba66-9934-437e-982e-1e6c6e8ccace",
      "metadata": {
        "id": "49b6ba66-9934-437e-982e-1e6c6e8ccace"
      },
      "outputs": [],
      "source": [
        "df['Clase']=df['Clase'].replace(2,0)\n",
        "df['Clase']=df['Clase'].replace(4,1)"
      ]
    },
    {
      "cell_type": "markdown",
      "id": "9238a2ea-684f-49c6-975b-e1654e69bf5c",
      "metadata": {
        "id": "9238a2ea-684f-49c6-975b-e1654e69bf5c"
      },
      "source": [
        "Eliminamos las filas en donde la columna Núcleos desnudos tiene un ?"
      ]
    },
    {
      "cell_type": "code",
      "execution_count": 36,
      "id": "4d93dd1c-ea4b-42de-a32e-c9476ba2283a",
      "metadata": {
        "colab": {
          "base_uri": "https://localhost:8080/"
        },
        "id": "4d93dd1c-ea4b-42de-a32e-c9476ba2283a",
        "outputId": "386a527c-e38b-4bde-ac11-d84268ee52b5"
      },
      "outputs": [
        {
          "output_type": "stream",
          "name": "stdout",
          "text": [
            "<class 'pandas.core.frame.DataFrame'>\n",
            "Int64Index: 682 entries, 0 to 697\n",
            "Data columns (total 11 columns):\n",
            " #   Column                   Non-Null Count  Dtype\n",
            "---  ------                   --------------  -----\n",
            " 0   Código de la muestra     682 non-null    int64\n",
            " 1   Grosor del tumor         682 non-null    int64\n",
            " 2   Uniformidad del tamño    682 non-null    int64\n",
            " 3   Uniformidad de la forma  682 non-null    int64\n",
            " 4   Adhesión marginal        682 non-null    int64\n",
            " 5   Tamaño                   682 non-null    int64\n",
            " 6   Núcleos desnudos         682 non-null    int64\n",
            " 7   Cromatina blanda         682 non-null    int64\n",
            " 8   Nucléolos normales       682 non-null    int64\n",
            " 9   Mitosis de células       682 non-null    int64\n",
            " 10  Clase                    682 non-null    int64\n",
            "dtypes: int64(11)\n",
            "memory usage: 63.9 KB\n"
          ]
        }
      ],
      "source": [
        "indexes = list(df.index[df['Núcleos desnudos']=='?'])\n",
        "df_delete=df.drop(indexes)\n",
        "df_delete = df_delete.astype({\"Núcleos desnudos\": 'int64'})\n",
        "df_delete.info()"
      ]
    },
    {
      "cell_type": "code",
      "execution_count": 37,
      "id": "474b7b27-046a-4d6e-a5da-d9d030ce86d4",
      "metadata": {
        "id": "474b7b27-046a-4d6e-a5da-d9d030ce86d4"
      },
      "outputs": [],
      "source": [
        "df = df_delete\n",
        "X=df[df.columns[1:-1]].to_numpy(dtype=float)\n",
        "y=df[df.columns[-1]].to_numpy()[np.newaxis:].T"
      ]
    },
    {
      "cell_type": "code",
      "execution_count": 38,
      "id": "2dec98ba-6555-4083-b6b8-ae0db17c392f",
      "metadata": {
        "colab": {
          "base_uri": "https://localhost:8080/"
        },
        "id": "2dec98ba-6555-4083-b6b8-ae0db17c392f",
        "outputId": "2bac9e27-fbb3-4976-ce71-10c4697f4b73"
      },
      "outputs": [
        {
          "output_type": "stream",
          "name": "stdout",
          "text": [
            "Epoch 0: Pérdida = 444.7210752145709 Exactitud = 61.43695014662757\n",
            "Epoch 1: Pérdida = 433.4297617670982 Exactitud = 64.95601173020528\n",
            "Epoch 2: Pérdida = 425.3479135394575 Exactitud = 64.95601173020528\n",
            "Epoch 3: Pérdida = 410.7222113989718 Exactitud = 64.95601173020528\n",
            "Epoch 4: Pérdida = 388.0535938531217 Exactitud = 68.62170087976538\n",
            "Epoch 5: Pérdida = 357.32347557488583 Exactitud = 72.72727272727273\n",
            "Epoch 6: Pérdida = 321.4236734595304 Exactitud = 84.4574780058651\n",
            "Epoch 7: Pérdida = 284.49437062606694 Exactitud = 91.49560117302052\n",
            "Epoch 8: Pérdida = 249.89155214841279 Exactitud = 93.841642228739\n",
            "Epoch 9: Pérdida = 219.9373563630284 Exactitud = 93.54838709677419\n",
            "Epoch 10: Pérdida = 194.7260518814519 Exactitud = 93.54838709677419\n",
            "Epoch 11: Pérdida = 174.17707396355848 Exactitud = 93.69501466275659\n",
            "Epoch 12: Pérdida = 157.93974910355365 Exactitud = 94.42815249266863\n",
            "Epoch 13: Pérdida = 144.75308449467516 Exactitud = 94.57478005865103\n",
            "Epoch 14: Pérdida = 133.6352741580925 Exactitud = 95.01466275659824\n",
            "Epoch 15: Pérdida = 124.59877165409469 Exactitud = 95.30791788856305\n",
            "Epoch 16: Pérdida = 117.43111963891549 Exactitud = 95.45454545454545\n",
            "Epoch 17: Pérdida = 111.42876999342849 Exactitud = 95.45454545454545\n",
            "Epoch 18: Pérdida = 105.99998783083022 Exactitud = 95.30791788856305\n",
            "Epoch 19: Pérdida = 101.73502618054032 Exactitud = 95.30791788856305\n",
            "Epoch 20: Pérdida = 97.87742955611444 Exactitud = 95.45454545454545\n",
            "Epoch 21: Pérdida = 93.66847125086389 Exactitud = 95.60117302052787\n",
            "Epoch 22: Pérdida = 89.75268112720521 Exactitud = 95.74780058651027\n",
            "Epoch 23: Pérdida = 86.6796598960414 Exactitud = 96.18768328445748\n",
            "Epoch 24: Pérdida = 84.16774203527073 Exactitud = 96.33431085043989\n",
            "Epoch 25: Pérdida = 82.30722932383554 Exactitud = 96.48093841642229\n",
            "Epoch 26: Pérdida = 81.04414454376084 Exactitud = 96.62756598240469\n",
            "Epoch 27: Pérdida = 79.98098865219328 Exactitud = 96.62756598240469\n",
            "Epoch 28: Pérdida = 78.8396111317455 Exactitud = 96.48093841642229\n",
            "Epoch 29: Pérdida = 77.43795345069842 Exactitud = 96.33431085043989\n",
            "Epoch 30: Pérdida = 76.05323819243534 Exactitud = 96.48093841642229\n",
            "Epoch 31: Pérdida = 74.9349120463973 Exactitud = 96.62756598240469\n",
            "Epoch 32: Pérdida = 74.02848403748177 Exactitud = 96.62756598240469\n",
            "Epoch 33: Pérdida = 73.25419733828252 Exactitud = 96.7741935483871\n",
            "Epoch 34: Pérdida = 72.56230145840462 Exactitud = 96.62756598240469\n",
            "Epoch 35: Pérdida = 71.9279915030886 Exactitud = 96.62756598240469\n",
            "Epoch 36: Pérdida = 71.34285573746642 Exactitud = 96.62756598240469\n",
            "Epoch 37: Pérdida = 70.80566705373161 Exactitud = 96.9208211143695\n",
            "Epoch 38: Pérdida = 70.31602729284971 Exactitud = 96.9208211143695\n",
            "Epoch 39: Pérdida = 69.87102085185577 Exactitud = 96.9208211143695\n"
          ]
        }
      ],
      "source": [
        "np.random.seed(0)\n",
        "W1, W2, w3, perdidas, exactitudes = retropropagacion(X, \n",
        "                                                 y, \n",
        "                                                 alpha = 0.01,\n",
        "                                                 n_epocas = 40)"
      ]
    }
  ],
  "metadata": {
    "kernelspec": {
      "display_name": "Python 3",
      "language": "python",
      "name": "python3"
    },
    "language_info": {
      "codemirror_mode": {
        "name": "ipython",
        "version": 3
      },
      "file_extension": ".py",
      "mimetype": "text/x-python",
      "name": "python",
      "nbconvert_exporter": "python",
      "pygments_lexer": "ipython3",
      "version": "3.9.13"
    },
    "colab": {
      "provenance": [],
      "include_colab_link": true
    }
  },
  "nbformat": 4,
  "nbformat_minor": 5
}